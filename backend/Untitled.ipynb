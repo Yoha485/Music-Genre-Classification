{
 "cells": [
  {
   "cell_type": "markdown",
   "id": "alike-copying",
   "metadata": {},
   "source": [
    "# Cat-Dog Classification"
   ]
  },
  {
   "cell_type": "code",
   "execution_count": 38,
   "id": "straight-highlight",
   "metadata": {},
   "outputs": [],
   "source": [
    "import numpy as np\n",
    "import pandas as pd \n",
    "import tensorflow as tf\n",
    "from tensorflow.keras.preprocessing.image import ImageDataGenerator     \n",
    "from tensorflow.keras import layers, models\n",
    "import matplotlib.pyplot as plt"
   ]
  },
  {
   "cell_type": "code",
   "execution_count": 18,
   "id": "lined-interpretation",
   "metadata": {},
   "outputs": [
    {
     "name": "stdout",
     "output_type": "stream",
     "text": [
      "Found 8005 images belonging to 2 classes.\n"
     ]
    }
   ],
   "source": [
    "train_datagen = ImageDataGenerator(\n",
    "        rescale=1./255,\n",
    "        shear_range=0.2,\n",
    "        zoom_range=0.2,\n",
    "        horizontal_flip=True)\n",
    "training_set = train_datagen.flow_from_directory(\n",
    "        './training_set/training_set',\n",
    "        target_size=(64, 64),\n",
    "        batch_size=32,\n",
    "        class_mode='binary')"
   ]
  },
  {
   "cell_type": "code",
   "execution_count": 26,
   "id": "celtic-mailing",
   "metadata": {},
   "outputs": [
    {
     "name": "stdout",
     "output_type": "stream",
     "text": [
      "Found 2023 images belonging to 2 classes.\n"
     ]
    }
   ],
   "source": [
    "test_datagen = ImageDataGenerator(rescale=1./255)\n",
    "test_set= test_datagen.flow_from_directory(\n",
    "        './test_set/test_set',\n",
    "        target_size=(64, 64),\n",
    "        batch_size=32,\n",
    "        class_mode='binary')"
   ]
  },
  {
   "cell_type": "code",
   "execution_count": 29,
   "id": "derived-piano",
   "metadata": {},
   "outputs": [
    {
     "data": {
      "text/plain": [
       "(64, 64, 3)"
      ]
     },
     "execution_count": 29,
     "metadata": {},
     "output_type": "execute_result"
    }
   ],
   "source": [
    "test_set.image_shape"
   ]
  },
  {
   "cell_type": "code",
   "execution_count": 33,
   "id": "temporal-truck",
   "metadata": {},
   "outputs": [],
   "source": [
    "model = models.Sequential()\n",
    "model.add(layers.Conv2D(32, (3, 3), activation='relu', input_shape=(64, 64, 3)))\n",
    "model.add(layers.MaxPooling2D((2, 2)))\n",
    "model.add(layers.Conv2D(64, (3, 3), activation='relu'))\n",
    "model.add(layers.MaxPooling2D((2, 2)))\n",
    "model.add(layers.Conv2D(64, (3, 3), activation='relu'))\n",
    "model.add(layers.Flatten())\n",
    "model.add(layers.Dense(64, activation='relu'))\n",
    "model.add(layers.Dense(10))"
   ]
  },
  {
   "cell_type": "code",
   "execution_count": 34,
   "id": "minimal-german",
   "metadata": {},
   "outputs": [],
   "source": [
    "model.compile(optimizer='adam',\n",
    "              loss=tf.keras.losses.SparseCategoricalCrossentropy(from_logits=True),\n",
    "              metrics=['accuracy'])"
   ]
  },
  {
   "cell_type": "code",
   "execution_count": 41,
   "id": "sought-royal",
   "metadata": {},
   "outputs": [
    {
     "name": "stdout",
     "output_type": "stream",
     "text": [
      "Epoch 1/25\n",
      "251/251 [==============================] - 40s 161ms/step - loss: 0.2394 - accuracy: 0.9008 - val_loss: 0.4419 - val_accuracy: 0.8334\n",
      "Epoch 2/25\n",
      "251/251 [==============================] - 43s 171ms/step - loss: 0.2178 - accuracy: 0.9068 - val_loss: 0.4889 - val_accuracy: 0.8201\n",
      "Epoch 3/25\n",
      "251/251 [==============================] - 42s 168ms/step - loss: 0.2127 - accuracy: 0.9131 - val_loss: 0.4458 - val_accuracy: 0.8250\n",
      "Epoch 4/25\n",
      "251/251 [==============================] - 42s 168ms/step - loss: 0.2085 - accuracy: 0.9147 - val_loss: 0.4104 - val_accuracy: 0.8423\n",
      "Epoch 5/25\n",
      "251/251 [==============================] - 45s 179ms/step - loss: 0.1895 - accuracy: 0.9227 - val_loss: 0.4654 - val_accuracy: 0.8428\n",
      "Epoch 6/25\n",
      "251/251 [==============================] - 44s 177ms/step - loss: 0.1814 - accuracy: 0.9255 - val_loss: 0.4765 - val_accuracy: 0.8359\n",
      "Epoch 7/25\n",
      "251/251 [==============================] - 53s 213ms/step - loss: 0.1886 - accuracy: 0.9218 - val_loss: 0.4820 - val_accuracy: 0.8329\n",
      "Epoch 8/25\n",
      "251/251 [==============================] - 58s 232ms/step - loss: 0.1670 - accuracy: 0.9355 - val_loss: 0.6103 - val_accuracy: 0.8102\n",
      "Epoch 9/25\n",
      "251/251 [==============================] - 45s 177ms/step - loss: 0.1645 - accuracy: 0.9328 - val_loss: 0.4726 - val_accuracy: 0.8374\n",
      "Epoch 10/25\n",
      "251/251 [==============================] - 48s 192ms/step - loss: 0.1639 - accuracy: 0.9327 - val_loss: 0.4918 - val_accuracy: 0.8448\n",
      "Epoch 11/25\n",
      "251/251 [==============================] - 55s 218ms/step - loss: 0.1608 - accuracy: 0.9300 - val_loss: 0.5023 - val_accuracy: 0.8398\n",
      "Epoch 12/25\n",
      "251/251 [==============================] - 54s 216ms/step - loss: 0.1438 - accuracy: 0.9430 - val_loss: 0.5014 - val_accuracy: 0.8403\n",
      "Epoch 13/25\n",
      "251/251 [==============================] - 49s 195ms/step - loss: 0.1426 - accuracy: 0.9413 - val_loss: 0.5336 - val_accuracy: 0.8413\n",
      "Epoch 14/25\n",
      "251/251 [==============================] - 60s 239ms/step - loss: 0.1454 - accuracy: 0.9410 - val_loss: 0.5239 - val_accuracy: 0.8329\n",
      "Epoch 15/25\n",
      "251/251 [==============================] - 64s 256ms/step - loss: 0.1346 - accuracy: 0.9493 - val_loss: 0.6254 - val_accuracy: 0.8398\n",
      "Epoch 16/25\n",
      "251/251 [==============================] - 54s 217ms/step - loss: 0.1333 - accuracy: 0.9478 - val_loss: 0.5760 - val_accuracy: 0.8438\n",
      "Epoch 17/25\n",
      "251/251 [==============================] - 44s 174ms/step - loss: 0.1209 - accuracy: 0.9530 - val_loss: 0.6310 - val_accuracy: 0.8334\n",
      "Epoch 18/25\n",
      "251/251 [==============================] - 53s 209ms/step - loss: 0.1285 - accuracy: 0.9505 - val_loss: 0.6043 - val_accuracy: 0.8290\n",
      "Epoch 19/25\n",
      "251/251 [==============================] - 53s 211ms/step - loss: 0.1237 - accuracy: 0.9524 - val_loss: 0.6451 - val_accuracy: 0.8334\n",
      "Epoch 20/25\n",
      "251/251 [==============================] - 52s 208ms/step - loss: 0.1262 - accuracy: 0.9490 - val_loss: 0.5642 - val_accuracy: 0.8280\n",
      "Epoch 21/25\n",
      "251/251 [==============================] - 48s 192ms/step - loss: 0.1256 - accuracy: 0.9508 - val_loss: 0.5895 - val_accuracy: 0.8309\n",
      "Epoch 22/25\n",
      "251/251 [==============================] - 45s 181ms/step - loss: 0.1010 - accuracy: 0.9605 - val_loss: 0.6661 - val_accuracy: 0.8364\n",
      "Epoch 23/25\n",
      "251/251 [==============================] - 42s 166ms/step - loss: 0.1341 - accuracy: 0.9479 - val_loss: 0.5922 - val_accuracy: 0.8389\n",
      "Epoch 24/25\n",
      "251/251 [==============================] - 41s 165ms/step - loss: 0.1142 - accuracy: 0.9532 - val_loss: 0.6438 - val_accuracy: 0.8522\n",
      "Epoch 25/25\n",
      "251/251 [==============================] - 45s 179ms/step - loss: 0.0994 - accuracy: 0.9631 - val_loss: 0.6399 - val_accuracy: 0.8413\n"
     ]
    }
   ],
   "source": [
    "history = model.fit(x=training_set, validation_data=test_set, epochs=25)"
   ]
  },
  {
   "cell_type": "code",
   "execution_count": 46,
   "id": "fossil-asbestos",
   "metadata": {},
   "outputs": [
    {
     "name": "stdout",
     "output_type": "stream",
     "text": [
      "64/64 - 3s - loss: 0.6399 - accuracy: 0.8413 - 3s/epoch - 40ms/step\n"
     ]
    },
    {
     "data": {
      "image/png": "[encoded data removed]",
      "text/plain": [
       "<Figure size 432x288 with 1 Axes>"
      ]
     },
     "metadata": {
      "needs_background": "light"
     },
     "output_type": "display_data"
    }
   ],
   "source": [
    "plt.plot(history.history['accuracy'], label='accuracy')\n",
    "plt.plot(history.history['val_accuracy'], label = 'val_accuracy')\n",
    "plt.xlabel('Epoch')\n",
    "plt.ylabel('Accuracy')\n",
    "plt.ylim([0.5, 1])\n",
    "plt.legend(loc='lower right')\n",
    "\n",
    "test_loss, test_acc = model.evaluate(test_set, verbose=2)"
   ]
  }
 ],
 "metadata": {
  "kernelspec": {
   "display_name": "Python 3",
   "language": "python",
   "name": "python3"
  },
  "language_info": {
   "codemirror_mode": {
    "name": "ipython",
    "version": 3
   },
   "file_extension": ".py",
   "mimetype": "text/x-python",
   "name": "python",
   "nbconvert_exporter": "python",
   "pygments_lexer": "ipython3",
   "version": "3.9.1"
  }
 },
 "nbformat": 4,
 "nbformat_minor": 5
}
